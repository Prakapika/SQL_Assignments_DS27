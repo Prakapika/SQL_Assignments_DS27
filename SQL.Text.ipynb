{
 "cells": [
  {
   "cell_type": "code",
   "execution_count": null,
   "id": "45d486cf",
   "metadata": {},
   "outputs": [],
   "source": [
    "1.Count the number of Salesperson whose name begin with ‘a’/’A’.\n",
    "   select count(*)from SalesPeople where Sname like'%a';\n",
    "\n",
    "2.Display all the Salesperson whose all orders worth is more than Rs. 2000.\n",
    "   a)select sname from SalesPeople Inner Join Orders on SalesPeople.snum=Orders.snum where Amt>2000;\n",
    "   b)select sname from salespeople s left join orders o on s.snum=o.snum where o.amt>2000;\n",
    "\n",
    "3.Count the number of Salesperson belonging to Newyork.\n",
    "   select count(*) from SalesPeople where city='Newyork';\n",
    "\n",
    "4.Display the number of Salespeople belonging to London and belonging to Paris.\n",
    "   select count(*) from SalesPeople where city='London' or city='Paris';\n",
    "\n",
    "5.Display the number of orders taken by each Salesperson and their date of orders.\n",
    "   a)select sname,Odate from Orders Inner Join SalesPeople on SalesPeople.snum=Orders.snum;\n",
    "   b)select o.odate,s.sname from orders o left join salespeople s on o.snum=s.snum;"
   ]
  }
 ],
 "metadata": {
  "kernelspec": {
   "display_name": "Python 3 (ipykernel)",
   "language": "python",
   "name": "python3"
  },
  "language_info": {
   "codemirror_mode": {
    "name": "ipython",
    "version": 3
   },
   "file_extension": ".py",
   "mimetype": "text/x-python",
   "name": "python",
   "nbconvert_exporter": "python",
   "pygments_lexer": "ipython3",
   "version": "3.10.6"
  }
 },
 "nbformat": 4,
 "nbformat_minor": 5
}
